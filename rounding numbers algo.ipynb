{
 "cells": [
  {
   "cell_type": "code",
   "execution_count": null,
   "metadata": {},
   "outputs": [],
   "source": [
    "1. START\n",
    "2. Take INPUT of FLOATING values in X\n",
    "3. Calculate ACHIEVE := SUM(X) #sum of complete array\n",
    "     fv := FLOOR(X) #flooring every element of X and storing in an array fv\n",
    "     cv := CEIL(X) #ceiling every element of X and storing in an array cv\n",
    "4. Sum all floor values \n",
    "     sum_floor :=SUM(fv)\n",
    "5. Calculate difference of X from its Ceil values \n",
    "      ceil_diff := X-cv #diffence of each element from its ceil value\n",
    "6. Initialise dictionary 'Dict' and store X as key and ceil_diff as value\n",
    "7. Calculate difference of ACHIEVE and sum_floor\n",
    "      d := ACHIEVE-sum_floor # minimise this d using ceil values \n",
    "8. Sort Dict on ceil_diff \n",
    "9. From Dict take first KEY values and CEIL them that MINIMISE d and FLOOR other KEY values\n",
    "10. APPEND values in Y\n",
    "11. PRINT Y\n",
    "12. END\n",
    "\n",
    "\n"
   ]
  }
 ],
 "metadata": {
  "kernelspec": {
   "display_name": "Python 3",
   "language": "python",
   "name": "python3"
  },
  "language_info": {
   "codemirror_mode": {
    "name": "ipython",
    "version": 3
   },
   "file_extension": ".py",
   "mimetype": "text/x-python",
   "name": "python",
   "nbconvert_exporter": "python",
   "pygments_lexer": "ipython3",
   "version": "3.7.6"
  }
 },
 "nbformat": 4,
 "nbformat_minor": 4
}
